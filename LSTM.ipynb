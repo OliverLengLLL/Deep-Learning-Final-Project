{
  "cells": [
    {
      "cell_type": "markdown",
      "metadata": {
        "id": "A6GlvyP8LuLu"
      },
      "source": [
        "# LSTM Model"
      ]
    },
    {
      "cell_type": "markdown",
      "metadata": {
        "id": "4TMEIHrBLodU"
      },
      "source": [
        "##Install the necessary libraries"
      ]
    },
    {
      "cell_type": "code",
      "execution_count": 1,
      "metadata": {
        "colab": {
          "base_uri": "https://localhost:8080/"
        },
        "id": "Luu8p19II9jN",
        "outputId": "e737a8d9-0f4b-499b-e892-b4857508fa98"
      },
      "outputs": [
        {
          "output_type": "stream",
          "name": "stdout",
          "text": [
            "Requirement already satisfied: tensorflow in /usr/local/lib/python3.10/dist-packages (2.15.0)\n",
            "Collecting keras-tuner\n",
            "  Downloading keras_tuner-1.4.7-py3-none-any.whl (129 kB)\n",
            "\u001b[2K     \u001b[90m━━━━━━━━━━━━━━━━━━━━━━━━━━━━━━━━━━━━━━━━\u001b[0m \u001b[32m129.1/129.1 kB\u001b[0m \u001b[31m4.1 MB/s\u001b[0m eta \u001b[36m0:00:00\u001b[0m\n",
            "\u001b[?25hRequirement already satisfied: pandas in /usr/local/lib/python3.10/dist-packages (2.0.3)\n",
            "Requirement already satisfied: scikit-learn in /usr/local/lib/python3.10/dist-packages (1.2.2)\n",
            "Requirement already satisfied: matplotlib in /usr/local/lib/python3.10/dist-packages (3.7.1)\n",
            "Requirement already satisfied: absl-py>=1.0.0 in /usr/local/lib/python3.10/dist-packages (from tensorflow) (1.4.0)\n",
            "Requirement already satisfied: astunparse>=1.6.0 in /usr/local/lib/python3.10/dist-packages (from tensorflow) (1.6.3)\n",
            "Requirement already satisfied: flatbuffers>=23.5.26 in /usr/local/lib/python3.10/dist-packages (from tensorflow) (24.3.25)\n",
            "Requirement already satisfied: gast!=0.5.0,!=0.5.1,!=0.5.2,>=0.2.1 in /usr/local/lib/python3.10/dist-packages (from tensorflow) (0.5.4)\n",
            "Requirement already satisfied: google-pasta>=0.1.1 in /usr/local/lib/python3.10/dist-packages (from tensorflow) (0.2.0)\n",
            "Requirement already satisfied: h5py>=2.9.0 in /usr/local/lib/python3.10/dist-packages (from tensorflow) (3.9.0)\n",
            "Requirement already satisfied: libclang>=13.0.0 in /usr/local/lib/python3.10/dist-packages (from tensorflow) (18.1.1)\n",
            "Requirement already satisfied: ml-dtypes~=0.2.0 in /usr/local/lib/python3.10/dist-packages (from tensorflow) (0.2.0)\n",
            "Requirement already satisfied: numpy<2.0.0,>=1.23.5 in /usr/local/lib/python3.10/dist-packages (from tensorflow) (1.25.2)\n",
            "Requirement already satisfied: opt-einsum>=2.3.2 in /usr/local/lib/python3.10/dist-packages (from tensorflow) (3.3.0)\n",
            "Requirement already satisfied: packaging in /usr/local/lib/python3.10/dist-packages (from tensorflow) (24.0)\n",
            "Requirement already satisfied: protobuf!=4.21.0,!=4.21.1,!=4.21.2,!=4.21.3,!=4.21.4,!=4.21.5,<5.0.0dev,>=3.20.3 in /usr/local/lib/python3.10/dist-packages (from tensorflow) (3.20.3)\n",
            "Requirement already satisfied: setuptools in /usr/local/lib/python3.10/dist-packages (from tensorflow) (67.7.2)\n",
            "Requirement already satisfied: six>=1.12.0 in /usr/local/lib/python3.10/dist-packages (from tensorflow) (1.16.0)\n",
            "Requirement already satisfied: termcolor>=1.1.0 in /usr/local/lib/python3.10/dist-packages (from tensorflow) (2.4.0)\n",
            "Requirement already satisfied: typing-extensions>=3.6.6 in /usr/local/lib/python3.10/dist-packages (from tensorflow) (4.11.0)\n",
            "Requirement already satisfied: wrapt<1.15,>=1.11.0 in /usr/local/lib/python3.10/dist-packages (from tensorflow) (1.14.1)\n",
            "Requirement already satisfied: tensorflow-io-gcs-filesystem>=0.23.1 in /usr/local/lib/python3.10/dist-packages (from tensorflow) (0.37.0)\n",
            "Requirement already satisfied: grpcio<2.0,>=1.24.3 in /usr/local/lib/python3.10/dist-packages (from tensorflow) (1.63.0)\n",
            "Requirement already satisfied: tensorboard<2.16,>=2.15 in /usr/local/lib/python3.10/dist-packages (from tensorflow) (2.15.2)\n",
            "Requirement already satisfied: tensorflow-estimator<2.16,>=2.15.0 in /usr/local/lib/python3.10/dist-packages (from tensorflow) (2.15.0)\n",
            "Requirement already satisfied: keras<2.16,>=2.15.0 in /usr/local/lib/python3.10/dist-packages (from tensorflow) (2.15.0)\n",
            "Requirement already satisfied: requests in /usr/local/lib/python3.10/dist-packages (from keras-tuner) (2.31.0)\n",
            "Collecting kt-legacy (from keras-tuner)\n",
            "  Downloading kt_legacy-1.0.5-py3-none-any.whl (9.6 kB)\n",
            "Requirement already satisfied: python-dateutil>=2.8.2 in /usr/local/lib/python3.10/dist-packages (from pandas) (2.8.2)\n",
            "Requirement already satisfied: pytz>=2020.1 in /usr/local/lib/python3.10/dist-packages (from pandas) (2023.4)\n",
            "Requirement already satisfied: tzdata>=2022.1 in /usr/local/lib/python3.10/dist-packages (from pandas) (2024.1)\n",
            "Requirement already satisfied: scipy>=1.3.2 in /usr/local/lib/python3.10/dist-packages (from scikit-learn) (1.11.4)\n",
            "Requirement already satisfied: joblib>=1.1.1 in /usr/local/lib/python3.10/dist-packages (from scikit-learn) (1.4.2)\n",
            "Requirement already satisfied: threadpoolctl>=2.0.0 in /usr/local/lib/python3.10/dist-packages (from scikit-learn) (3.5.0)\n",
            "Requirement already satisfied: contourpy>=1.0.1 in /usr/local/lib/python3.10/dist-packages (from matplotlib) (1.2.1)\n",
            "Requirement already satisfied: cycler>=0.10 in /usr/local/lib/python3.10/dist-packages (from matplotlib) (0.12.1)\n",
            "Requirement already satisfied: fonttools>=4.22.0 in /usr/local/lib/python3.10/dist-packages (from matplotlib) (4.51.0)\n",
            "Requirement already satisfied: kiwisolver>=1.0.1 in /usr/local/lib/python3.10/dist-packages (from matplotlib) (1.4.5)\n",
            "Requirement already satisfied: pillow>=6.2.0 in /usr/local/lib/python3.10/dist-packages (from matplotlib) (9.4.0)\n",
            "Requirement already satisfied: pyparsing>=2.3.1 in /usr/local/lib/python3.10/dist-packages (from matplotlib) (3.1.2)\n",
            "Requirement already satisfied: wheel<1.0,>=0.23.0 in /usr/local/lib/python3.10/dist-packages (from astunparse>=1.6.0->tensorflow) (0.43.0)\n",
            "Requirement already satisfied: google-auth<3,>=1.6.3 in /usr/local/lib/python3.10/dist-packages (from tensorboard<2.16,>=2.15->tensorflow) (2.27.0)\n",
            "Requirement already satisfied: google-auth-oauthlib<2,>=0.5 in /usr/local/lib/python3.10/dist-packages (from tensorboard<2.16,>=2.15->tensorflow) (1.2.0)\n",
            "Requirement already satisfied: markdown>=2.6.8 in /usr/local/lib/python3.10/dist-packages (from tensorboard<2.16,>=2.15->tensorflow) (3.6)\n",
            "Requirement already satisfied: tensorboard-data-server<0.8.0,>=0.7.0 in /usr/local/lib/python3.10/dist-packages (from tensorboard<2.16,>=2.15->tensorflow) (0.7.2)\n",
            "Requirement already satisfied: werkzeug>=1.0.1 in /usr/local/lib/python3.10/dist-packages (from tensorboard<2.16,>=2.15->tensorflow) (3.0.3)\n",
            "Requirement already satisfied: charset-normalizer<4,>=2 in /usr/local/lib/python3.10/dist-packages (from requests->keras-tuner) (3.3.2)\n",
            "Requirement already satisfied: idna<4,>=2.5 in /usr/local/lib/python3.10/dist-packages (from requests->keras-tuner) (3.7)\n",
            "Requirement already satisfied: urllib3<3,>=1.21.1 in /usr/local/lib/python3.10/dist-packages (from requests->keras-tuner) (2.0.7)\n",
            "Requirement already satisfied: certifi>=2017.4.17 in /usr/local/lib/python3.10/dist-packages (from requests->keras-tuner) (2024.2.2)\n",
            "Requirement already satisfied: cachetools<6.0,>=2.0.0 in /usr/local/lib/python3.10/dist-packages (from google-auth<3,>=1.6.3->tensorboard<2.16,>=2.15->tensorflow) (5.3.3)\n",
            "Requirement already satisfied: pyasn1-modules>=0.2.1 in /usr/local/lib/python3.10/dist-packages (from google-auth<3,>=1.6.3->tensorboard<2.16,>=2.15->tensorflow) (0.4.0)\n",
            "Requirement already satisfied: rsa<5,>=3.1.4 in /usr/local/lib/python3.10/dist-packages (from google-auth<3,>=1.6.3->tensorboard<2.16,>=2.15->tensorflow) (4.9)\n",
            "Requirement already satisfied: requests-oauthlib>=0.7.0 in /usr/local/lib/python3.10/dist-packages (from google-auth-oauthlib<2,>=0.5->tensorboard<2.16,>=2.15->tensorflow) (1.3.1)\n",
            "Requirement already satisfied: MarkupSafe>=2.1.1 in /usr/local/lib/python3.10/dist-packages (from werkzeug>=1.0.1->tensorboard<2.16,>=2.15->tensorflow) (2.1.5)\n",
            "Requirement already satisfied: pyasn1<0.7.0,>=0.4.6 in /usr/local/lib/python3.10/dist-packages (from pyasn1-modules>=0.2.1->google-auth<3,>=1.6.3->tensorboard<2.16,>=2.15->tensorflow) (0.6.0)\n",
            "Requirement already satisfied: oauthlib>=3.0.0 in /usr/local/lib/python3.10/dist-packages (from requests-oauthlib>=0.7.0->google-auth-oauthlib<2,>=0.5->tensorboard<2.16,>=2.15->tensorflow) (3.2.2)\n",
            "Installing collected packages: kt-legacy, keras-tuner\n",
            "Successfully installed keras-tuner-1.4.7 kt-legacy-1.0.5\n"
          ]
        }
      ],
      "source": [
        "!pip install tensorflow keras-tuner pandas scikit-learn matplotlib"
      ]
    },
    {
      "cell_type": "markdown",
      "metadata": {
        "id": "YwXK_HHNLxCk"
      },
      "source": [
        "## Importing all the libraries"
      ]
    },
    {
      "cell_type": "code",
      "execution_count": 2,
      "metadata": {
        "id": "4-n877RZJWlc"
      },
      "outputs": [],
      "source": [
        "import pandas as pd\n",
        "import numpy as np\n",
        "from tensorflow.keras.models import Sequential\n",
        "from tensorflow.keras.layers import Embedding, LSTM, Dense, Dropout\n",
        "from tensorflow.keras.preprocessing.text import Tokenizer\n",
        "from tensorflow.keras.preprocessing.sequence import pad_sequences\n",
        "from tensorflow.keras.optimizers import Adam\n",
        "from tensorflow.keras.callbacks import EarlyStopping, ModelCheckpoint, Callback\n",
        "from keras_tuner import RandomSearch\n",
        "from sklearn.model_selection import train_test_split\n",
        "import matplotlib.pyplot as plt\n",
        "import os\n",
        "import keras"
      ]
    },
    {
      "cell_type": "markdown",
      "metadata": {
        "id": "U2hF2uN7L0pk"
      },
      "source": [
        "## Loading Data"
      ]
    },
    {
      "cell_type": "code",
      "execution_count": 3,
      "metadata": {
        "id": "CR76GQ0tJYQ7"
      },
      "outputs": [],
      "source": [
        "# Load data\n",
        "full_texts = pd.read_csv('train.csv')\n",
        "\n",
        "# # Combine for consistent preprocessing\n",
        "# full_texts = pd.concat([train_data['full_text'], test_data['full_text']], axis=0)\n",
        "\n",
        "# Tokenize text\n",
        "tokenizer = Tokenizer(num_words=5000, oov_token=\"<OOV>\")\n",
        "tokenizer.fit_on_texts(full_texts)\n",
        "train_sequences = tokenizer.texts_to_sequences(full_texts['full_text'])\n",
        "# test_sequences = tokenizer.texts_to_sequences(test_data['full_text'])\n",
        "\n",
        "# Pad sequences\n",
        "max_length = 500\n",
        "train_padded = pad_sequences(train_sequences, maxlen=max_length, padding='post', truncating='post')\n",
        "# test_padded = pad_sequences(test_sequences, maxlen=max_length, padding='post', truncating='post')"
      ]
    },
    {
      "cell_type": "markdown",
      "metadata": {
        "id": "_PPG2cV4L5Bf"
      },
      "source": [
        "## Building Model and Loading training and testing data"
      ]
    },
    {
      "cell_type": "code",
      "execution_count": 4,
      "metadata": {
        "id": "4Xph1NwcJixs"
      },
      "outputs": [],
      "source": [
        "def build_model(hp):\n",
        "    model = Sequential([\n",
        "        Embedding(input_dim=5000, output_dim=64, input_length=max_length),\n",
        "        LSTM(hp.Int('units', min_value=64, max_value=256, step=32), return_sequences=True),\n",
        "        Dropout(0.5),\n",
        "        LSTM(hp.Int('units', min_value=64, max_value=256, step=32)),\n",
        "        Dense(1, activation='linear')\n",
        "    ])\n",
        "    model.compile(\n",
        "        loss='mean_squared_error',\n",
        "        optimizer=Adam(hp.Float('learning_rate', min_value=1e-4, max_value=1e-2, sampling='LOG')),\n",
        "        metrics=['mean_squared_error']\n",
        "    )\n",
        "    return model\n",
        "\n",
        "X_train, X_val, y_train, y_val = train_test_split(train_padded, full_texts['score'], test_size=0.2, random_state=42)"
      ]
    },
    {
      "cell_type": "markdown",
      "metadata": {
        "id": "AQ1XW1IBL74F"
      },
      "source": [
        "## Setting up the Hyperparameter Tuner"
      ]
    },
    {
      "cell_type": "code",
      "execution_count": 5,
      "metadata": {
        "id": "y5_AfNrdJnGL"
      },
      "outputs": [],
      "source": [
        "tuner = RandomSearch(\n",
        "    build_model,\n",
        "    objective='val_mean_squared_error',\n",
        "    max_trials=5,\n",
        "    executions_per_trial=1,\n",
        "    directory='model_tuning',\n",
        "    project_name='EssayScoring'\n",
        ")"
      ]
    },
    {
      "cell_type": "markdown",
      "metadata": {
        "id": "VEL9IqkMMEyb"
      },
      "source": [
        "## Callbacks"
      ]
    },
    {
      "cell_type": "code",
      "execution_count": 6,
      "metadata": {
        "id": "TNnCF1RcJpJO"
      },
      "outputs": [],
      "source": [
        "early_stopping = EarlyStopping(monitor='val_loss', patience=10, restore_best_weights=True)"
      ]
    },
    {
      "cell_type": "code",
      "execution_count": 7,
      "metadata": {
        "id": "NeMY19UN5r3c"
      },
      "outputs": [],
      "source": [
        "from sklearn.metrics import accuracy_score, cohen_kappa_score\n",
        "\n",
        "class MetricsLogger(Callback):\n",
        "    def __init__(self, validation_data):\n",
        "        super().__init__()\n",
        "        self.validation_data = validation_data\n",
        "        self.epochs = []\n",
        "        self.train_losses = []\n",
        "        self.val_losses = []\n",
        "        self.val_kappas = []\n",
        "\n",
        "    def on_train_begin(self, logs=None):\n",
        "        self.epochs = []\n",
        "        self.train_losses = []\n",
        "        self.val_losses = []\n",
        "        self.val_kappas = []\n",
        "        print(\"Training started...\")\n",
        "\n",
        "    def on_epoch_end(self, epoch, logs=None):\n",
        "        if logs is None:\n",
        "            logs = {}\n",
        "        self.epochs.append(epoch)\n",
        "        self.train_losses.append(logs.get('loss'))\n",
        "        self.val_losses.append(logs.get('val_loss'))\n",
        "\n",
        "        print(f\"Epoch {epoch + 1} ended. Calculating validation metrics...\")\n",
        "\n",
        "        y_val_pred = self.model.predict(self.validation_data[0])\n",
        "        y_val_pred_classes = np.round(y_val_pred).astype(int)\n",
        "        y_val_true_classes = self.validation_data[1].astype(int)\n",
        "        val_kappa = cohen_kappa_score(y_val_true_classes, y_val_pred_classes, weights='quadratic')\n",
        "\n",
        "        self.val_kappas.append(val_kappa)\n",
        "\n",
        "        print(f'Epoch {epoch + 1}: val_kappa: {val_kappa:.4f}')\n",
        "\n",
        "\n",
        "    def plot_metrics(self):\n",
        "        plt.figure(figsize=(12, 4))\n",
        "\n",
        "        plt.subplot(1, 3, 1)\n",
        "        plt.plot(self.epochs, self.train_losses, label='Train Loss')\n",
        "        plt.plot(self.epochs, self.val_losses, label='Validation Loss')\n",
        "        plt.title('Loss')\n",
        "        plt.xlabel('Epoch')\n",
        "        plt.ylabel('Loss')\n",
        "        plt.legend()\n",
        "\n",
        "        plt.subplot(1, 3, 2)\n",
        "        plt.plot(self.epochs, self.val_kappas, label='Validation Kappa')\n",
        "        plt.title('Validation Kappa')\n",
        "        plt.xlabel('Epoch')\n",
        "        plt.ylabel('Kappa')\n",
        "        plt.legend()\n",
        "\n",
        "        plt.tight_layout()\n",
        "        plt.show()\n",
        "\n",
        "metrics_logger = MetricsLogger(validation_data=(X_val, y_val))"
      ]
    },
    {
      "cell_type": "markdown",
      "metadata": {
        "id": "1UJCjRJvMIDP"
      },
      "source": [
        "## Training Process"
      ]
    },
    {
      "cell_type": "code",
      "execution_count": 8,
      "metadata": {
        "colab": {
          "base_uri": "https://localhost:8080/"
        },
        "id": "2yzNHWErJsDs",
        "outputId": "85847820-7933-4e81-d5df-b4a9244dadc9"
      },
      "outputs": [
        {
          "output_type": "stream",
          "name": "stdout",
          "text": [
            "Trial 5 Complete [00h 03m 48s]\n",
            "val_mean_squared_error: 0.5642154812812805\n",
            "\n",
            "Best val_mean_squared_error So Far: 0.5642154812812805\n",
            "Total elapsed time: 00h 17m 30s\n"
          ]
        }
      ],
      "source": [
        "tuner.search(X_train, y_train, epochs=12, validation_data=(X_val, y_val), callbacks=[early_stopping, metrics_logger])"
      ]
    },
    {
      "cell_type": "markdown",
      "metadata": {
        "id": "jKqr6eX3MNKR"
      },
      "source": [
        "## Getting the Best Model"
      ]
    },
    {
      "cell_type": "code",
      "execution_count": 9,
      "metadata": {
        "id": "_eUMsB5HJvym"
      },
      "outputs": [],
      "source": [
        "best_model = tuner.get_best_models(num_models=1)[0]"
      ]
    },
    {
      "cell_type": "markdown",
      "metadata": {
        "id": "-UZhNiEMWcGD"
      },
      "source": [
        "## Evaluating the Best Model"
      ]
    },
    {
      "cell_type": "code",
      "execution_count": 10,
      "metadata": {
        "colab": {
          "base_uri": "https://localhost:8080/"
        },
        "id": "UVBWe26ZJ3u4",
        "outputId": "cc103eb6-c556-4d2b-a7bc-7bdb798b3873"
      },
      "outputs": [
        {
          "output_type": "stream",
          "name": "stdout",
          "text": [
            "109/109 [==============================] - 3s 16ms/step - loss: 0.5642 - mean_squared_error: 0.5642\n",
            "Validation MSE: 0.5642154812812805\n"
          ]
        }
      ],
      "source": [
        "loss, mse = best_model.evaluate(X_val, y_val)\n",
        "print(f'Validation MSE: {mse}')"
      ]
    },
    {
      "cell_type": "code",
      "source": [
        "metrics_logger_best = MetricsLogger(validation_data=(X_val, y_val))\n",
        "best_model.fit(X_train, y_train, epochs=12, validation_data=(X_val, y_val), callbacks=[metrics_logger_best])"
      ],
      "metadata": {
        "colab": {
          "base_uri": "https://localhost:8080/"
        },
        "id": "rR5-JEIo_PNo",
        "outputId": "77ecbb38-92ab-430b-fd24-6f173e6783a1"
      },
      "execution_count": 11,
      "outputs": [
        {
          "output_type": "stream",
          "name": "stdout",
          "text": [
            "Training started...\n",
            "Epoch 1/12\n",
            "433/433 [==============================] - ETA: 0s - loss: 0.5771 - mean_squared_error: 0.5771Epoch 1 ended. Calculating validation metrics...\n",
            "109/109 [==============================] - 2s 16ms/step\n",
            "Epoch 1: val_kappa: 0.6020\n",
            "433/433 [==============================] - 23s 45ms/step - loss: 0.5771 - mean_squared_error: 0.5771 - val_loss: 0.5831 - val_mean_squared_error: 0.5831\n",
            "Epoch 2/12\n",
            "433/433 [==============================] - ETA: 0s - loss: 0.5789 - mean_squared_error: 0.5789Epoch 2 ended. Calculating validation metrics...\n",
            "109/109 [==============================] - 2s 16ms/step\n",
            "Epoch 2: val_kappa: 0.6219\n",
            "433/433 [==============================] - 19s 43ms/step - loss: 0.5789 - mean_squared_error: 0.5789 - val_loss: 0.5730 - val_mean_squared_error: 0.5730\n",
            "Epoch 3/12\n",
            "433/433 [==============================] - ETA: 0s - loss: 0.5755 - mean_squared_error: 0.5755Epoch 3 ended. Calculating validation metrics...\n",
            "109/109 [==============================] - 2s 16ms/step\n",
            "Epoch 3: val_kappa: 0.6180\n",
            "433/433 [==============================] - 19s 43ms/step - loss: 0.5755 - mean_squared_error: 0.5755 - val_loss: 0.5671 - val_mean_squared_error: 0.5671\n",
            "Epoch 4/12\n",
            "433/433 [==============================] - ETA: 0s - loss: 0.5773 - mean_squared_error: 0.5773Epoch 4 ended. Calculating validation metrics...\n",
            "109/109 [==============================] - 2s 16ms/step\n",
            "Epoch 4: val_kappa: 0.6214\n",
            "433/433 [==============================] - 18s 43ms/step - loss: 0.5773 - mean_squared_error: 0.5773 - val_loss: 0.5708 - val_mean_squared_error: 0.5708\n",
            "Epoch 5/12\n",
            "433/433 [==============================] - ETA: 0s - loss: 0.5759 - mean_squared_error: 0.5759Epoch 5 ended. Calculating validation metrics...\n",
            "109/109 [==============================] - 2s 16ms/step\n",
            "Epoch 5: val_kappa: 0.6104\n",
            "433/433 [==============================] - 18s 43ms/step - loss: 0.5759 - mean_squared_error: 0.5759 - val_loss: 0.5660 - val_mean_squared_error: 0.5660\n",
            "Epoch 6/12\n",
            "433/433 [==============================] - ETA: 0s - loss: 0.5747 - mean_squared_error: 0.5747Epoch 6 ended. Calculating validation metrics...\n",
            "109/109 [==============================] - 2s 16ms/step\n",
            "Epoch 6: val_kappa: 0.6087\n",
            "433/433 [==============================] - 18s 43ms/step - loss: 0.5747 - mean_squared_error: 0.5747 - val_loss: 0.5685 - val_mean_squared_error: 0.5685\n",
            "Epoch 7/12\n",
            "433/433 [==============================] - ETA: 0s - loss: 0.5753 - mean_squared_error: 0.5753Epoch 7 ended. Calculating validation metrics...\n",
            "109/109 [==============================] - 2s 16ms/step\n",
            "Epoch 7: val_kappa: 0.6171\n",
            "433/433 [==============================] - 18s 43ms/step - loss: 0.5753 - mean_squared_error: 0.5753 - val_loss: 0.5729 - val_mean_squared_error: 0.5729\n",
            "Epoch 8/12\n",
            "433/433 [==============================] - ETA: 0s - loss: 0.5748 - mean_squared_error: 0.5748Epoch 8 ended. Calculating validation metrics...\n",
            "109/109 [==============================] - 2s 16ms/step\n",
            "Epoch 8: val_kappa: 0.6176\n",
            "433/433 [==============================] - 18s 43ms/step - loss: 0.5748 - mean_squared_error: 0.5748 - val_loss: 0.5702 - val_mean_squared_error: 0.5702\n",
            "Epoch 9/12\n",
            "433/433 [==============================] - ETA: 0s - loss: 0.5742 - mean_squared_error: 0.5742Epoch 9 ended. Calculating validation metrics...\n",
            "109/109 [==============================] - 2s 16ms/step\n",
            "Epoch 9: val_kappa: 0.6108\n",
            "433/433 [==============================] - 18s 42ms/step - loss: 0.5742 - mean_squared_error: 0.5742 - val_loss: 0.5650 - val_mean_squared_error: 0.5650\n",
            "Epoch 10/12\n",
            "433/433 [==============================] - ETA: 0s - loss: 0.5735 - mean_squared_error: 0.5735Epoch 10 ended. Calculating validation metrics...\n",
            "109/109 [==============================] - 2s 16ms/step\n",
            "Epoch 10: val_kappa: 0.6190\n",
            "433/433 [==============================] - 19s 43ms/step - loss: 0.5735 - mean_squared_error: 0.5735 - val_loss: 0.5635 - val_mean_squared_error: 0.5635\n",
            "Epoch 11/12\n",
            "433/433 [==============================] - ETA: 0s - loss: 0.5751 - mean_squared_error: 0.5751Epoch 11 ended. Calculating validation metrics...\n",
            "109/109 [==============================] - 2s 16ms/step\n",
            "Epoch 11: val_kappa: 0.6074\n",
            "433/433 [==============================] - 18s 42ms/step - loss: 0.5751 - mean_squared_error: 0.5751 - val_loss: 0.5679 - val_mean_squared_error: 0.5679\n",
            "Epoch 12/12\n",
            "433/433 [==============================] - ETA: 0s - loss: 0.5716 - mean_squared_error: 0.5716Epoch 12 ended. Calculating validation metrics...\n",
            "109/109 [==============================] - 2s 16ms/step\n",
            "Epoch 12: val_kappa: 0.5846\n",
            "433/433 [==============================] - 18s 43ms/step - loss: 0.5716 - mean_squared_error: 0.5716 - val_loss: 0.5782 - val_mean_squared_error: 0.5782\n"
          ]
        },
        {
          "output_type": "execute_result",
          "data": {
            "text/plain": [
              "<keras.src.callbacks.History at 0x7bac9c14b820>"
            ]
          },
          "metadata": {},
          "execution_count": 11
        }
      ]
    },
    {
      "cell_type": "code",
      "source": [
        "loss, mse = best_model.evaluate(X_val, y_val)\n",
        "print(f'Validation MSE: {mse}')"
      ],
      "metadata": {
        "colab": {
          "base_uri": "https://localhost:8080/"
        },
        "id": "-5eCiU34DT1a",
        "outputId": "89d1022c-802f-419e-defa-2f539a7ff91f"
      },
      "execution_count": 12,
      "outputs": [
        {
          "output_type": "stream",
          "name": "stdout",
          "text": [
            "109/109 [==============================] - 2s 16ms/step - loss: 0.5782 - mean_squared_error: 0.5782\n",
            "Validation MSE: 0.578191876411438\n"
          ]
        }
      ]
    },
    {
      "cell_type": "code",
      "source": [
        "metrics_logger_best.plot_metrics()"
      ],
      "metadata": {
        "colab": {
          "base_uri": "https://localhost:8080/",
          "height": 407
        },
        "id": "Ie8xSTquDUtD",
        "outputId": "00ebc18d-389e-42d1-c4af-76e2e34624cc"
      },
      "execution_count": 13,
      "outputs": [
        {
          "output_type": "display_data",
          "data": {
            "text/plain": [
              "<Figure size 1200x400 with 2 Axes>"
            ],
            "image/png": "[encoded data removed]"
          },
          "metadata": {}
        }
      ]
    },
    {
      "cell_type": "code",
      "source": [
        "# Print the logged metrics\n",
        "train_losses = metrics_logger_best.train_losses\n",
        "val_losses = metrics_logger_best.val_losses\n",
        "val_kappas = metrics_logger_best.val_kappas\n",
        "\n",
        "print(\"Train Losses:\", train_losses)\n",
        "print(\"Validation Losses:\", val_losses)\n",
        "print(\"Validation Kappa:\", val_kappas)"
      ],
      "metadata": {
        "colab": {
          "base_uri": "https://localhost:8080/"
        },
        "id": "BogK-2gvDjcC",
        "outputId": "31fe066f-b4d8-4665-ad89-ddf17dadbda0"
      },
      "execution_count": 14,
      "outputs": [
        {
          "output_type": "stream",
          "name": "stdout",
          "text": [
            "Train Losses: [0.5771185755729675, 0.5789213180541992, 0.5754594802856445, 0.57732754945755, 0.5759413242340088, 0.5746537446975708, 0.5752805471420288, 0.5748423933982849, 0.5741657614707947, 0.5735141634941101, 0.5751336216926575, 0.5716270804405212]\n",
            "Validation Losses: [0.5830779671669006, 0.5730095505714417, 0.5671306252479553, 0.5707519054412842, 0.5659893155097961, 0.5685059428215027, 0.5729418396949768, 0.5701572895050049, 0.5649524927139282, 0.5634788274765015, 0.5678578615188599, 0.578191876411438]\n",
            "Validation Kappa: [0.6020314207271675, 0.6218912379220833, 0.6179899374891917, 0.621378036154274, 0.61037927247437, 0.6086885862316245, 0.6171498997838851, 0.6175687412399138, 0.6108432632246865, 0.6189527276392908, 0.6073942914287114, 0.5845985539847405]\n"
          ]
        }
      ]
    }
  ],
  "metadata": {
    "accelerator": "GPU",
    "colab": {
      "gpuType": "L4",
      "provenance": [],
      "machine_shape": "hm"
    },
    "kaggle": {
      "accelerator": "gpu",
      "dataSources": [
        {
          "datasetId": 4989035,
          "sourceId": 8388118,
          "sourceType": "datasetVersion"
        }
      ],
      "dockerImageVersionId": 30699,
      "isGpuEnabled": true,
      "isInternetEnabled": true,
      "language": "python",
      "sourceType": "notebook"
    },
    "kernelspec": {
      "display_name": "DL_Pytorch",
      "language": "python",
      "name": "my_env"
    },
    "language_info": {
      "codemirror_mode": {
        "name": "ipython",
        "version": 3
      },
      "file_extension": ".py",
      "mimetype": "text/x-python",
      "name": "python",
      "nbconvert_exporter": "python",
      "pygments_lexer": "ipython3",
      "version": "3.12.2"
    }
  },
  "nbformat": 4,
  "nbformat_minor": 0
}